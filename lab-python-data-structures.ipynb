{
 "cells": [
  {
   "cell_type": "markdown",
   "metadata": {
    "tags": []
   },
   "source": [
    "# Lab | Data Structures "
   ]
  },
  {
   "cell_type": "code",
   "execution_count": null,
   "metadata": {},
   "outputs": [],
   "source": []
  },
  {
   "cell_type": "markdown",
   "metadata": {},
   "source": [
    "## Exercise: Managing Customer Orders\n",
    "\n",
    "As part of a business venture, you are starting an online store that sells various products. To ensure smooth operations, you need to develop a program that manages customer orders and inventory.\n",
    "\n",
    "Follow the steps below to complete the exercise:\n",
    "\n",
    "1. Define a list called `products` that contains the following items: \"t-shirt\", \"mug\", \"hat\", \"book\", \"keychain\".\n",
    "\n",
    "2. Create an empty dictionary called `inventory`.\n",
    "\n",
    "3. Ask the user to input the quantity of each product available in the inventory. Use the product names from the `products` list as keys in the `inventory` dictionary and assign the respective quantities as values.\n",
    "\n",
    "4. Create an empty set called `customer_orders`.\n",
    "\n",
    "5. Ask the user to input the name of three products that a customer wants to order (from those in the products list, meaning three products out of \"t-shirt\", \"mug\", \"hat\", \"book\" or \"keychain\". Add each product name to the `customer_orders` set.\n",
    "\n",
    "6. Print the products in the `customer_orders` set.\n",
    "\n",
    "7. Calculate the following order statistics:\n",
    "   - Total Products Ordered: The total number of products in the `customer_orders` set.\n",
    "   - Percentage of Products Ordered: The percentage of products ordered compared to the total available products.\n",
    "   \n",
    "   Store these statistics in a tuple called `order_status`.\n",
    "\n",
    "8. Print the order statistics using the following format:\n",
    "   ```\n",
    "   Order Statistics:\n",
    "   Total Products Ordered: <total_products_ordered>\n",
    "   Percentage of Products Ordered: <percentage_ordered>% \n",
    "   ```\n",
    "\n",
    "9. Update the inventory by subtracting 1 from the quantity of each product. Modify the `inventory` dictionary accordingly.\n",
    "\n",
    "10. Print the updated inventory, displaying the quantity of each product on separate lines.\n",
    "\n",
    "Solve the exercise by implementing the steps using the Python concepts of lists, dictionaries, sets, and basic input/output operations. "
   ]
  },
  {
   "cell_type": "code",
   "execution_count": 7,
   "metadata": {},
   "outputs": [],
   "source": [
    "#1 Define list called products\n",
    "products = ['t-shirt','mug','hat','book','keychain']\n",
    "\n"
   ]
  },
  {
   "cell_type": "code",
   "execution_count": 2,
   "metadata": {},
   "outputs": [],
   "source": [
    "#2 Empty dictionary called `inventory`\n",
    "inventory = {}\n"
   ]
  },
  {
   "cell_type": "code",
   "execution_count": 3,
   "metadata": {},
   "outputs": [
    {
     "name": "stdout",
     "output_type": "stream",
     "text": [
      "{'t-shirt': 2, 'mug': 3, 'hat': 3, 'book': 4, 'keychain': 1}\n"
     ]
    }
   ],
   "source": [
    "#3 Input quantity of each product\n",
    "quantity_tshirt = input(\"Enter the quantity for t-shirt: \")\n",
    "inventory[\"t-shirt\"] = int(quantity_tshirt)\n",
    "\n",
    "quantity_mug = input (\"Enter the quantity for mug: \")\n",
    "inventory[\"mug\"] = int(quantity_mug)\n",
    "\n",
    "quantity_hat = input (\"Enter the quantity for hat: \")\n",
    "inventory[\"hat\"] = int(quantity_hat)\n",
    "\n",
    "quantity_book = input (\"Enter the quantity for book: \")\n",
    "inventory[\"book\"] = int(quantity_book)\n",
    "\n",
    "quantity_keychain = input (\"Enter the quantity for keychain: \")\n",
    "inventory[\"keychain\"] = int(quantity_keychain)\n",
    "\n",
    "print(inventory)"
   ]
  },
  {
   "cell_type": "code",
   "execution_count": 4,
   "metadata": {},
   "outputs": [],
   "source": [
    "#4 Empty set called \"customer_orders\"\n",
    "customer_orders = set()"
   ]
  },
  {
   "cell_type": "code",
   "execution_count": 8,
   "metadata": {},
   "outputs": [
    {
     "name": "stdout",
     "output_type": "stream",
     "text": [
      "Insert three products to order: \n",
      "Customer orders:\n",
      "hat\n",
      "mug\n",
      "book\n"
     ]
    }
   ],
   "source": [
    "#5 Prompt user to input the name of three products to order\n",
    "print(\"Insert three products to order: \")\n",
    "for i in range(3):\n",
    "    while True:\n",
    "        order = input(f\"Product {i + 1}: \").strip().lower()\n",
    "        if order in products:\n",
    "            customer_orders.add(order)\n",
    "            break  # Exit the inner loop and move to the next product\n",
    "        else:\n",
    "            print(\"Product not found. Try again.\")\n",
    "\n",
    "#6 Print customer orders\n",
    "print(\"Customer orders:\")\n",
    "for order in customer_orders:\n",
    "    print(order)"
   ]
  },
  {
   "cell_type": "code",
   "execution_count": 9,
   "metadata": {},
   "outputs": [],
   "source": [
    "#7 Calculate statistics\n",
    "total_products_ordered = len(customer_orders)\n",
    "percentage_products_ordered = (total_products_ordered / len(products)) * 100"
   ]
  },
  {
   "cell_type": "code",
   "execution_count": 10,
   "metadata": {},
   "outputs": [
    {
     "name": "stdout",
     "output_type": "stream",
     "text": [
      "Order statistics:\n",
      "Total ordered products: 3\n",
      "Percentage of ordered products: 60.00%\n"
     ]
    }
   ],
   "source": [
    "#8. Print the order statistics\n",
    "total_products_ordered = len(customer_orders)\n",
    "percentage_ordered = (total_products_ordered / len(products)) * 100\n",
    "order_status = (total_products_ordered, percentage_ordered)\n",
    "\n",
    "order_status = (total_products_ordered, percentage_ordered)\n",
    "print(\"Order statistics:\")\n",
    "print(f\"Total ordered products: {order_status[0]}\")\n",
    "print(f\"Percentage of ordered products: {order_status[1]:.2f}%\")"
   ]
  },
  {
   "cell_type": "code",
   "execution_count": 11,
   "metadata": {},
   "outputs": [],
   "source": [
    "#9 Update the inventory by subtracting 1 from the quantity of each product\n",
    "\n",
    "for product in customer_orders:\n",
    "# Check if the product is in the inventory\n",
    "    if inventory[product] > 0:\n",
    "        inventory[product] -= 1\n",
    "    else:\n",
    "        print(f\"Out of stock for {product}\")"
   ]
  },
  {
   "cell_type": "code",
   "execution_count": 12,
   "metadata": {},
   "outputs": [
    {
     "name": "stdout",
     "output_type": "stream",
     "text": [
      "Updated inventory:\n",
      "t-shirt: 2\n",
      "mug: 2\n",
      "hat: 2\n",
      "book: 3\n",
      "keychain: 1\n"
     ]
    }
   ],
   "source": [
    "# 10. Print the updated inventory\n",
    "print(\"Updated inventory:\")\n",
    "for product, quantity in inventory.items():\n",
    "    print(f\"{product}: {quantity}\")"
   ]
  }
 ],
 "metadata": {
  "kernelspec": {
   "display_name": "Python 3 (ipykernel)",
   "language": "python",
   "name": "python3"
  },
  "language_info": {
   "codemirror_mode": {
    "name": "ipython",
    "version": 3
   },
   "file_extension": ".py",
   "mimetype": "text/x-python",
   "name": "python",
   "nbconvert_exporter": "python",
   "pygments_lexer": "ipython3",
   "version": "3.12.4"
  }
 },
 "nbformat": 4,
 "nbformat_minor": 4
}
